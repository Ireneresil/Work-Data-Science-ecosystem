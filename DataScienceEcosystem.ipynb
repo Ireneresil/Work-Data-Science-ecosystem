{
  "metadata": {
    "kernelspec": {
      "name": "python",
      "display_name": "Python (Pyodide)",
      "language": "python"
    },
    "language_info": {
      "codemirror_mode": {
        "name": "python",
        "version": 3
      },
      "file_extension": ".py",
      "mimetype": "text/x-python",
      "name": "python",
      "nbconvert_exporter": "python",
      "pygments_lexer": "ipython3",
      "version": "3.8"
    }
  },
  "nbformat_minor": 4,
  "nbformat": 4,
  "cells": [
    {
      "cell_type": "markdown",
      "source": "# DataScienceEcosystem",
      "metadata": {}
    },
    {
      "cell_type": "markdown",
      "source": "## Introduction\n\nThis is my data science work for the IBM course",
      "metadata": {}
    },
    {
      "cell_type": "markdown",
      "source": "## The data science programming languages\n\n1. Python\n2. Julia\n3. R\n4. SQL",
      "metadata": {}
    },
    {
      "cell_type": "markdown",
      "source": "## The data science libraries\n\n- NumPY\n- Pandas\n- Scikit-Learn\n- Scipy",
      "metadata": {}
    },
    {
      "cell_type": "markdown",
      "source": "## The data science tools\n\n| Name | Utility | Type |\n| ---- | ------- | ---- |\n| Jupyter | For Julia, Python an R | IDE |\n| Google colab |  For pyhthon and ipynb | IDE |",
      "metadata": {}
    },
    {
      "cell_type": "markdown",
      "source": "## The aritmetic expressions\n\n- divide by /\n- multiply by *\n- plus +",
      "metadata": {}
    },
    {
      "cell_type": "code",
      "source": "print (2 + 3) # Prints 5\nprint (4 + 2) # Prints 6\nprint ( 3 * 2)  # Prints 6\nprint (8 * 8 ) # Prints 64",
      "metadata": {
        "trusted": true,
        "scrolled": true
      },
      "outputs": [
        {
          "name": "stdout",
          "text": "5\n6\n6\n64\n",
          "output_type": "stream"
        }
      ],
      "execution_count": 2
    },
    {
      "cell_type": "code",
      "source": "minutes = 120\nhours = minutes // 60\nprint(f\"The hours are: {hours}\")",
      "metadata": {
        "trusted": true
      },
      "outputs": [
        {
          "name": "stdout",
          "text": "The hours are: 2\n",
          "output_type": "stream"
        }
      ],
      "execution_count": 5
    },
    {
      "cell_type": "code",
      "source": "objetives = [\n    \"Do this work\",\n    \"Learn data science\"\n]\n\nfor objetive in objetives:\n    print (objetive)",
      "metadata": {
        "trusted": true
      },
      "outputs": [
        {
          "name": "stdout",
          "text": "Do this work\nLearn data science\n",
          "output_type": "stream"
        }
      ],
      "execution_count": 8
    },
    {
      "cell_type": "markdown",
      "source": "## Author name\n\nMª Irene Gamero Sevilla",
      "metadata": {}
    },
    {
      "cell_type": "code",
      "source": "",
      "metadata": {
        "trusted": true
      },
      "outputs": [],
      "execution_count": null
    }
  ]
}